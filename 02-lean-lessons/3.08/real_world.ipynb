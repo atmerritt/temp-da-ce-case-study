{
 "cells": [
  {
   "cell_type": "markdown",
   "metadata": {},
   "source": [
    "# Real-world case study\n",
    "\n",
    "---\n",
    "\n",
    "In this lab, you'll work with in pairs or small groups to classify movie genres in the [Sakila](https://dev.mysql.com/doc/sakila/en/sakila-structure.html) database. You'll apply the skills you've learned in MySQL and exploratory data analysis to acquire, explore, clean, and process the data. After some feature selection (and/or feature engineering) you'll train a model to predict the genre of a movie given other information about it.\n",
    "\n",
    "---\n",
    "\n",
    "**Useful links:**\n",
    "* Overview of the [structure](https://dev.mysql.com/doc/sakila/en/sakila-structure.html) of the database\n",
    "* List of [tables](https://dev.mysql.com/doc/sakila/en/sakila-structure-tables.html) and summaries of their content\n",
    "\n",
    "---"
   ]
  },
  {
   "cell_type": "markdown",
   "metadata": {},
   "source": [
    "Start by importing relevant libraries:"
   ]
  },
  {
   "cell_type": "code",
   "execution_count": null,
   "metadata": {},
   "outputs": [],
   "source": [
    "import pandas as pd\n",
    "import numpy as np\n",
    "import os\n",
    "\n",
    "import seaborn as sns\n",
    "import cmocean\n",
    "import matplotlib.pyplot as plt\n",
    "import pylab\n",
    "%matplotlib inline\n",
    "%config InlineBackend.figure_format = 'svg'\n",
    "\n",
    "\n",
    "viz_style = {\n",
    "    'font.family': 'sans-serif',\n",
    "    'font.size':11,\n",
    "    'axes.titlesize':'large',\n",
    "    'axes.labelsize':'medium',\n",
    "    'xtick.labelsize':'small',\n",
    "    'ytick.labelsize':'small',\n",
    "    'text.color':'#5B5654',\n",
    "    'axes.labelcolor':'#5B5654',\n",
    "    'xtick.color':'#5B5654',\n",
    "    'ytick.color':'#5B5654',\n",
    "    'axes.edgecolor':'#5B5654',\n",
    "    'xtick.top':False,\n",
    "    'ytick.right':False,\n",
    "    'axes.spines.top':False,\n",
    "    'axes.spines.right':False,\n",
    "    'axes.grid':False,\n",
    "    'boxplot.showfliers':False,\n",
    "    'boxplot.patchartist':True\n",
    "}\n",
    "\n",
    "plt.style.use(viz_style)\n",
    "\n",
    "case_dir = '/path/to/materials'"
   ]
  },
  {
   "cell_type": "markdown",
   "metadata": {},
   "source": [
    "## Read in & explore the data"
   ]
  },
  {
   "cell_type": "markdown",
   "metadata": {},
   "source": [
    "Use mysql to query the database. \n",
    "\n",
    "---\n",
    "\n",
    "This lab is open-ended, so you can explore the database and decide which features might be useful to have when predicting movie genre. Remember that you can do on-the-fly feature engineering in your SQL queries!"
   ]
  },
  {
   "cell_type": "code",
   "execution_count": null,
   "metadata": {},
   "outputs": [],
   "source": [
    "import pymysql\n",
    "import sqlalchemy as db\n",
    "\n",
    "# note: this part might be different in a class setting?\n",
    "db_url = os.path.join(case_dir, 'sakila.db')\n",
    "engine = db.create_engine('sqlite:///'+db_url)\n",
    "metadata = db.MetaData()\n",
    "connection = engine.connect()"
   ]
  },
  {
   "cell_type": "code",
   "execution_count": null,
   "metadata": {},
   "outputs": [],
   "source": [
    "# update with whatever query you want\n",
    "query = '''\n",
    "'''\n",
    "df = pd.read_sql(query, con=engine)\n",
    "df.head()"
   ]
  },
  {
   "cell_type": "markdown",
   "metadata": {},
   "source": [
    "Let's see what relationships these features have with the genre:"
   ]
  },
  {
   "cell_type": "code",
   "execution_count": null,
   "metadata": {},
   "outputs": [],
   "source": []
  },
  {
   "cell_type": "code",
   "execution_count": null,
   "metadata": {},
   "outputs": [],
   "source": []
  },
  {
   "cell_type": "markdown",
   "metadata": {},
   "source": [
    "## train model"
   ]
  },
  {
   "cell_type": "code",
   "execution_count": null,
   "metadata": {},
   "outputs": [],
   "source": []
  },
  {
   "cell_type": "code",
   "execution_count": null,
   "metadata": {},
   "outputs": [],
   "source": []
  },
  {
   "cell_type": "code",
   "execution_count": null,
   "metadata": {},
   "outputs": [],
   "source": []
  }
 ],
 "metadata": {
  "kernelspec": {
   "display_name": "Python 3",
   "language": "python",
   "name": "python3"
  },
  "language_info": {
   "codemirror_mode": {
    "name": "ipython",
    "version": 3
   },
   "file_extension": ".py",
   "mimetype": "text/x-python",
   "name": "python",
   "nbconvert_exporter": "python",
   "pygments_lexer": "ipython3",
   "version": "3.6.7"
  },
  "latex_envs": {
   "LaTeX_envs_menu_present": true,
   "autoclose": false,
   "autocomplete": false,
   "bibliofile": "biblio.bib",
   "cite_by": "apalike",
   "current_citInitial": 1,
   "eqLabelWithNumbers": true,
   "eqNumInitial": 1,
   "hotkeys": {
    "equation": "ctrl-shift-e"
   },
   "labels_anchors": false,
   "latex_user_defs": false,
   "report_style_numbering": false,
   "user_envs_cfg": false
  },
  "toc": {
   "base_numbering": 1,
   "nav_menu": {},
   "number_sections": true,
   "sideBar": true,
   "skip_h1_title": false,
   "title_cell": "Table of Contents",
   "title_sidebar": "Contents",
   "toc_cell": false,
   "toc_position": {},
   "toc_section_display": true,
   "toc_window_display": true
  }
 },
 "nbformat": 4,
 "nbformat_minor": 4
}
